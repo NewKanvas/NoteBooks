{
 "cells": [
  {
   "cell_type": "markdown",
   "metadata": {},
   "source": [
    "# **Automação Web com Selenium**"
   ]
  },
  {
   "cell_type": "markdown",
   "metadata": {},
   "source": [
    "- ***[Documentação](https://selenium-python.readthedocs.io/)***\n",
    "- ***[Tutorial - Hashtag Programação](https://www.youtube.com/watch?v=8AMNaVt0z_M&t=119s&ab_channel=HashtagPrograma%C3%A7%C3%A3o)***"
   ]
  },
  {
   "cell_type": "markdown",
   "metadata": {},
   "source": [
    "### > **Instalando requisitos:**"
   ]
  },
  {
   "cell_type": "code",
   "execution_count": null,
   "metadata": {},
   "outputs": [],
   "source": [
    "# Use ! para dar o comando direto no terminal do VsCode\n",
    "# Use % para dar o comando dentro do ambiente do IPython\n",
    "\n",
    "%pip install selenium\n",
    "%pip install webdriver-manager # (Baixa Driver do navegador automaticamente)"
   ]
  },
  {
   "cell_type": "code",
   "execution_count": 2,
   "metadata": {},
   "outputs": [],
   "source": [
    "from selenium import webdriver\n",
    "\n",
    "# Baixando Driver do Navegador Automaticamente\n",
    "from webdriver_manager.chrome import ChromeDriverManager\n",
    "from selenium.webdriver.chrome.service import Service\n",
    "\n",
    "servico = Service(ChromeDriverManager().install()) # Instala a versão mais recente do driver do navegador\n",
    "\n",
    "# Para o Firefox\n",
    "# from webdriver_manager.firefox import GeckoDriverManager \n",
    "# from selenium.webdriver.firefox.service import Service"
   ]
  },
  {
   "cell_type": "code",
   "execution_count": 3,
   "metadata": {},
   "outputs": [],
   "source": [
    "navegador = webdriver.Chrome(service=servico) # Abrindo navegador"
   ]
  },
  {
   "cell_type": "markdown",
   "metadata": {},
   "source": [
    "### **Acessando links:**"
   ]
  },
  {
   "cell_type": "code",
   "execution_count": 4,
   "metadata": {},
   "outputs": [],
   "source": [
    "navegador.get(\"https://pages.hashtagtreinamentos.com/inscricao-minicurso-python-automacao-org?origemurl=hashtag_yt_org_minipython_videoselenium\")"
   ]
  },
  {
   "cell_type": "markdown",
   "metadata": {},
   "source": [
    "### **Preenchendo dados**"
   ]
  },
  {
   "cell_type": "code",
   "execution_count": 6,
   "metadata": {},
   "outputs": [],
   "source": [
    "# Encontrando elemento:\n",
    "# Achando o elemento por meio do xpath, o segundo parametro e o \"codigo\" do elemento\n",
    "# Você pode achar o xpath atraves do menu de inpesão dos navegadores.\n",
    "\n",
    "# send_key() para escrever algo.\n",
    "# click() para clicar em algo\n",
    "\n",
    "# Achando o \"Seu primeiro nome\" e escrevendo\n",
    "navegador.find_element('xpath',\n",
    "                       '//*[@id=\"section-10356508\"]/section/div[2]/div/div[2]/form/div[1]/div/div[1]/div/input').send_keys(\"Jonas\")\n",
    "\n",
    "# Achando  o \"Seu melhor e-mail\" e escrevendo\n",
    "navegador.find_element('xpath',\n",
    "                       '//*[@id=\"section-10356508\"]/section/div[2]/div/div[2]/form/div[1]/div/div[2]/div/input').send_keys(\"jonas@x.com\")\n",
    "\n",
    "# Achando  o \"Insira seu WhatsApp com DDD\" e escrevendo\n",
    "navegador.find_element('xpath',\n",
    "                       '//*[@id=\"section-10356508\"]/section/div[2]/div/div[2]/form/div[1]/div/div[3]/div/input').send_keys(\"22988885555\")\n",
    "\n",
    "# Clicando para confirmar dados\n",
    "navegador.find_element('xpath', '//*[@id=\"section-10356508\"]/section/div[2]/div/div[2]/form/button').click()"
   ]
  }
 ],
 "metadata": {
  "kernelspec": {
   "display_name": "Python 3",
   "language": "python",
   "name": "python3"
  },
  "language_info": {
   "codemirror_mode": {
    "name": "ipython",
    "version": 3
   },
   "file_extension": ".py",
   "mimetype": "text/x-python",
   "name": "python",
   "nbconvert_exporter": "python",
   "pygments_lexer": "ipython3",
   "version": "3.11.5"
  }
 },
 "nbformat": 4,
 "nbformat_minor": 2
}
