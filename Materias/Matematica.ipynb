{
 "cells": [
  {
   "cell_type": "markdown",
   "metadata": {},
   "source": [
    "Media, Moda, Mediana."
   ]
  },
  {
   "cell_type": "markdown",
   "metadata": {},
   "source": [
    "Media (Soma de todos a valores divido pela quantidade deles)"
   ]
  },
  {
   "cell_type": "markdown",
   "metadata": {},
   "source": [
    "Moda (é o dado que aparece com maior frequência em um conjunto de dados)"
   ]
  },
  {
   "cell_type": "markdown",
   "metadata": {},
   "source": [
    "Mediana (mediana é necessário colocar os valores em ordem crescente ou decrescente. Quando o número elementos de um conjunto é par, a mediana é encontrada pela média dos dois valores centrais. Assim, esses valores são somados e divididos por dois.)"
   ]
  },
  {
   "cell_type": "markdown",
   "metadata": {},
   "source": [
    "# **Matemática Básica**"
   ]
  },
  {
   "cell_type": "markdown",
   "metadata": {},
   "source": [
    "\n",
    "---\n",
    "### **Matemática Básica**\n",
    "- [Porcentagem](#porcentagem)\n",
    "- [MULTIPLICAÇÃO](#multiplicacao)\n",
    "- [POTÊNCIA](#potencia)\n",
    "- [EQUAÇÃO EXPONENCIAL](#equacao-exponencial)\n",
    "\n",
    "### **Matemática Financeira**\n",
    "- [Conceitos gerais](#conceitos-gerais)\n",
    "  - Valor do dinheiro no tempo, juros, taxa de juro.\n",
    "- [Juros Simples](#juros-simples)\n",
    "- [Juros Compostos](#juros-compostos)\n",
    "- [Equivalência de capitais](#equivalencia-de-capitais)\n",
    "  - Em fluxos regulares ou irregulares.\n",
    "- [Sistemas de Amortização](#sistemas-de-amortizacao)\n",
    "- [Descontos](#descontos)\n",
    "- [Sequências numéricas](#sequencias-numericas)\n",
    "  - Progressões aritméticas e geométricas.\n",
    "- [Noções de probabilidade e estatística](#noes-de-probabilidade-e-estatistica)\n",
    "  - Conceitos básicos.\n",
    "\n",
    "---"
   ]
  },
  {
   "cell_type": "markdown",
   "metadata": {},
   "source": [
    "## MULTIPLICAÇÃO\n"
   ]
  },
  {
   "cell_type": "markdown",
   "metadata": {},
   "source": [
    "Qualquer Tabuada:"
   ]
  },
  {
   "cell_type": "markdown",
   "metadata": {},
   "source": [
    "## POTENCIA:"
   ]
  },
  {
   "cell_type": "markdown",
   "metadata": {},
   "source": [
    "- 3² = 3*3\n",
    "- 5³ = 5*5"
   ]
  },
  {
   "cell_type": "markdown",
   "metadata": {},
   "source": [
    "### Exponenciação por Quadrados Repetidos:"
   ]
  },
  {
   "cell_type": "markdown",
   "metadata": {},
   "source": [
    "Potencias muito altas podem ser simplificadas da seguinte forma:\n",
    "\n",
    "    1.01^12 = ??\n",
    "\n",
    "    1.01^6 = 1,062\n",
    "\n",
    "Logo:\n",
    "\n",
    "    (1.01^6)^2 = (1.062)^2\n",
    "    1.01^12 = 1.062*1.062\n",
    "    1.01^12 = 1.126724"
   ]
  },
  {
   "cell_type": "markdown",
   "metadata": {},
   "source": [
    "## EQUAÇÃO EXPONENCIAL\n",
    "{:#equacao-exponencial}"
   ]
  },
  {
   "cell_type": "markdown",
   "metadata": {},
   "source": [
    "# **Matemática Financeira:**\n",
    "\n",
    "- Conceitos gerais: valor do dinheiro no tempo, juros, taxa de juro.\n",
    "- Juros simples.\n",
    "- Juros compostos.\n",
    "- Séries uniformes.\n",
    "- Equivalência de capitais em fluxos regulares ou irregulares.\n",
    "- Sistemas de amortização.\n",
    "- Descontos.\n",
    "- Sequências numéricas: progressões aritméticas e geométricas.\n",
    "- Noções de probabilidade e estatística."
   ]
  },
  {
   "cell_type": "markdown",
   "metadata": {},
   "source": [
    "## Conceitos gerais:"
   ]
  },
  {
   "cell_type": "markdown",
   "metadata": {},
   "source": [
    "### Valor do dinheiro no tempo:\n",
    "Este conceito refere-se ao princípio de que o valor de uma quantia de dinheiro pode variar ao longo do tempo devido a fatores como inflação, oportunidades de investimento e preferências individuais. Em resumo, o dinheiro disponível hoje pode ter um valor diferente do mesmo montante no futuro devido à capacidade de investir ou ao impacto da inflação."
   ]
  },
  {
   "cell_type": "markdown",
   "metadata": {},
   "source": [
    "### Juros\n",
    "\n",
    "- **Para quem concede um empréstimo, os juros são a remuneração do capital.**\n",
    "> Quando alguém empresta dinheiro, está abrindo mão do uso desse dinheiro durante um certo período de tempo. Os juros são a compensação por essa renúncia ao uso do capital. Isso é especialmente importante para bancos e instituições financeiras, que emprestam dinheiro como parte de seu negócio principal.\n",
    "\n",
    "- **Para quem toma o empréstimo, os juros são o custo do capital.**\n",
    "> Quando alguém toma um empréstimo, está essencialmente pagando pelo privilégio de usar o dinheiro de outra pessoa. Esse custo adicional é crucial para considerar ao decidir sobre empréstimos, pois afeta o custo total do empréstimo e, consequentemente, a viabilidade de projetos ou investimentos.\n"
   ]
  },
  {
   "cell_type": "code",
   "execution_count": 12,
   "metadata": {},
   "outputs": [],
   "source": [
    "# Digamos que você depositou dinheiro no banco\n",
    "i = 0.8 # Taxa de Juros (i)% ao mês\n",
    "n = 3 # Número de períodos (n) meses\n",
    "C = 1000.00 # Capital Inicial"
   ]
  },
  {
   "cell_type": "code",
   "execution_count": 13,
   "metadata": {},
   "outputs": [
    {
     "name": "stdout",
     "output_type": "stream",
     "text": [
      "Ao final de trinta dias R$8.0\n",
      "Seu novo capital é R$1008.0\n"
     ]
    }
   ],
   "source": [
    "# No final do primeiro mês\n",
    "Juros_Apurados = C*(i/100)\n",
    "print(f'Ao final de trinta dias R${Juros_Apurados}')\n",
    "C = C+Juros_Apurados\n",
    "print(f'Seu novo capital é R${C}')"
   ]
  },
  {
   "cell_type": "code",
   "execution_count": 14,
   "metadata": {},
   "outputs": [
    {
     "name": "stdout",
     "output_type": "stream",
     "text": [
      "Ao final de trinta dias R$8.064\n",
      "Seu novo capital é R$1016.064\n"
     ]
    }
   ],
   "source": [
    "# No final do segundo mês\n",
    "Juros_Apurados = C*(i/100)\n",
    "print(f'Ao final de trinta dias R${Juros_Apurados}')\n",
    "C = C+Juros_Apurados\n",
    "print(f'Seu novo capital é R${C}')"
   ]
  },
  {
   "cell_type": "code",
   "execution_count": 15,
   "metadata": {},
   "outputs": [
    {
     "name": "stdout",
     "output_type": "stream",
     "text": [
      "Ao final de trinta dias R$8.128512\n",
      "Seu novo capital é R$1024.192512\n"
     ]
    }
   ],
   "source": [
    "# No final do terceiro mês\n",
    "Juros_Apurados = C*(i/100)\n",
    "print(f'Ao final de trinta dias R${Juros_Apurados}')\n",
    "C = C+Juros_Apurados\n",
    "# Esse e o valor do capital aplicado no banco durante 3 meses\n",
    "print(f'Seu novo capital é R${C}')"
   ]
  },
  {
   "cell_type": "markdown",
   "metadata": {},
   "source": [
    "Pode se dizer então que o valor **FUTURO** de **R$1.000** aplicado com o juros de 0.8% durante 3 meses é de **R$1.204,19**"
   ]
  },
  {
   "cell_type": "markdown",
   "metadata": {},
   "source": [
    "#### No sentido inverso\n",
    "Pode se dizer tambem que o **R$1.000** é o valor **PRESENTE** de **R$1.204,19** aplicados por 3 meses a uma taxa de 0.8% ao mês"
   ]
  },
  {
   "cell_type": "code",
   "execution_count": 16,
   "metadata": {},
   "outputs": [
    {
     "name": "stdout",
     "output_type": "stream",
     "text": [
      "Montante ao final do primeiro mês: 1008.0\n",
      "Montante ao final do segundo mês: 1016.0640000000001\n",
      "Montante ao final do terceiro mês: 1024.1925119999999\n"
     ]
    }
   ],
   "source": [
    "# Novamente\n",
    "i = 0.8 # Taxa de Juros (i)% ao mês\n",
    "n = 3 # Número de períodos (n) meses\n",
    "C = 1000.00 # Capital Inicial\n",
    "\n",
    "# Cálculo do montante ao final de cada período\n",
    "C1 = C * (1 + (i/100))  # No final do primeiro mês\n",
    "C2 = C * (1 + (i/100))**2  # No final do segundo mês\n",
    "C3 = C * (1 + (i/100))**3  # No final do terceiro mês\n",
    "\n",
    "\n",
    "\n",
    "\n",
    "# 0.8/100 = 0.008 (convertendo a taxa de juros para decimal).\n",
    "# 1 + 0.008 = 1.008 (adicionando 1 à taxa de juros).\n",
    "# 1.008 (elevando esse valor à potência de 3, que representa 3 meses).\n",
    "\n",
    "# **2 significa elevado a 2\n",
    "\n",
    "print(\"Montante ao final do primeiro mês:\", C1)\n",
    "print(\"Montante ao final do segundo mês:\", C2)\n",
    "print(\"Montante ao final do terceiro mês:\", C3)"
   ]
  },
  {
   "cell_type": "code",
   "execution_count": 17,
   "metadata": {},
   "outputs": [
    {
     "name": "stdout",
     "output_type": "stream",
     "text": [
      "Valor Futuro: 1024.1925119999999\n"
     ]
    }
   ],
   "source": [
    "# Em termos gerais\n",
    "i = 0.8 # Taxa de Juros (i)% ao mês\n",
    "n = 3 # Número de períodos (n) meses\n",
    "Valor_Presente = 1000.00 # Capital Inicial\n",
    "\n",
    "Valor_Futuro = Valor_Presente * (1 + (i / 100))**n\n",
    "print(\"Valor Futuro:\", Valor_Futuro)"
   ]
  },
  {
   "cell_type": "code",
   "execution_count": 18,
   "metadata": {},
   "outputs": [
    {
     "name": "stdout",
     "output_type": "stream",
     "text": [
      "Valor Presente: 1000\n"
     ]
    }
   ],
   "source": [
    "# Em termos gerais (No inverso)\n",
    "i = 0.8 # Taxa de Juros (i)% ao mês\n",
    "n = 3 # Número de períodos (n) meses\n",
    "Valor_Futuro = 1024.19 # Capital Futuro\n",
    "\n",
    "Valor_Presente = Valor_Futuro / (1 + (i / 100))**n\n",
    "print(\"Valor Presente:\", round(Valor_Presente)) # Tive que arredondar"
   ]
  },
  {
   "cell_type": "markdown",
   "metadata": {},
   "source": [
    "eu estou fazendo 1,003^8 para calcular isso eu fiz 1,003²= 10,34009"
   ]
  }
 ],
 "metadata": {
  "kernelspec": {
   "display_name": "Python 3",
   "language": "python",
   "name": "python3"
  },
  "language_info": {
   "codemirror_mode": {
    "name": "ipython",
    "version": 3
   },
   "file_extension": ".py",
   "mimetype": "text/x-python",
   "name": "python",
   "nbconvert_exporter": "python",
   "pygments_lexer": "ipython3",
   "version": "3.11.5"
  }
 },
 "nbformat": 4,
 "nbformat_minor": 2
}
