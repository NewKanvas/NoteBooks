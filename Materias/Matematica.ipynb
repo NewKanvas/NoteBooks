{
 "cells": [
  {
   "cell_type": "markdown",
   "metadata": {},
   "source": [
    "Media, Moda, Mediana."
   ]
  },
  {
   "cell_type": "markdown",
   "metadata": {},
   "source": [
    "Media (Soma de todos a valores divido pela quantidade deles)"
   ]
  },
  {
   "cell_type": "markdown",
   "metadata": {},
   "source": [
    "Moda (é o dado que aparece com maior frequência em um conjunto de dados)"
   ]
  },
  {
   "cell_type": "markdown",
   "metadata": {},
   "source": [
    "Mediana (mediana é necessário colocar os valores em ordem crescente ou decrescente. Quando o número elementos de um conjunto é par, a mediana é encontrada pela média dos dois valores centrais. Assim, esses valores são somados e divididos por dois.)"
   ]
  },
  {
   "cell_type": "markdown",
   "metadata": {},
   "source": [
    "# **Matemática Básica**"
   ]
  },
  {
   "cell_type": "markdown",
   "metadata": {},
   "source": [
    "[Porcentagem](#porcentagem)"
   ]
  },
  {
   "cell_type": "markdown",
   "metadata": {},
   "source": [
    "## MULTIPLICAÇÃO"
   ]
  },
  {
   "cell_type": "markdown",
   "metadata": {},
   "source": [
    "Qualquer Tabuada:"
   ]
  },
  {
   "cell_type": "markdown",
   "metadata": {},
   "source": [
    "## PORCENTAGEM:"
   ]
  },
  {
   "cell_type": "markdown",
   "metadata": {},
   "source": [
    "`Porcentagem` é uma forma de expressar uma parte de um todo em termos percentuais.\n",
    "\n",
    "**Macete**: Para calcular a porcentagem de um valor, **multiplique o valor pela porcentagem** e **mova a vírgula duas posições para a frente**.\n",
    "Por exemplo, \n",
    "\n",
    "    20 alunos, 35% são mulheres. \n",
    "    20 x 35 = 700.\n",
    "    Portanto, 35% de 20 alunos são 7 alunas.\n",
    "\n",
    "Para encontrar a **parte complementar** (porcentagem restante),\n",
    "subtraia a porcentagem conhecida de 100%. Por exemplo, se 35% são mulheres,\n",
    "\n",
    "    100% - 35% = 65% são homens.\n",
    "    20 x 65 = 1300\n",
    "\n",
    "Assim, em 20 alunos, 65% são homens, o que equivale a 13 alunos.\n"
   ]
  },
  {
   "cell_type": "code",
   "execution_count": 35,
   "metadata": {},
   "outputs": [
    {
     "name": "stdout",
     "output_type": "stream",
     "text": [
      "Resultado sem mover a virgula 1300\n",
      "Resultado real 13.0\n"
     ]
    }
   ],
   "source": [
    "Total = 20\n",
    "i = 65 # Porcentagem\n",
    "Resultado = Total*i\n",
    "print('Resultado sem mover a virgula',Resultado)\n",
    "print('Resultado real',Resultado/100)"
   ]
  },
  {
   "cell_type": "markdown",
   "metadata": {},
   "source": [
    "**Para encontrar o valor original** de um número com aumento em porcentagem, você deve dividir o valor com aumento pela expressão (100% + x%).\n",
    "\n",
    "Exemplo:\n",
    "Se um trabalhador tivesse **7% de aumento** do seu **salário atual** e recebesse **R$ 2.675,00**.\n",
    "\n",
    "    2675 / (100% + 7%)\n",
    "    2675 / (1 + 0.07)\n",
    "    2675 / 1.07 ≈ 2500\n",
    "\n",
    "(Você pode pegar o 7 puro e no final mover a virgula para **duas posições para a tras** o resultado sera o mesmo)\n",
    "Portanto, o valor do salário atual é aproximadamente R$ 2.500,00.\n"
   ]
  },
  {
   "cell_type": "code",
   "execution_count": 40,
   "metadata": {},
   "outputs": [
    {
     "name": "stdout",
     "output_type": "stream",
     "text": [
      "25.0\n",
      "2500.0\n"
     ]
    }
   ],
   "source": [
    "VcA = 2675\n",
    "A = 7\n",
    "\n",
    "SalarioAtual = VcA/(100+A)\n",
    "print(SalarioAtual)\n",
    "print(SalarioAtual*100)"
   ]
  },
  {
   "cell_type": "markdown",
   "metadata": {},
   "source": [
    "## POTÊNCIA:"
   ]
  },
  {
   "cell_type": "markdown",
   "metadata": {},
   "source": [
    "- 3² = 3*3\n",
    "- 5³ = 5*5"
   ]
  },
  {
   "cell_type": "markdown",
   "metadata": {},
   "source": [
    "## EQUAÇÃO EXPONENCIAL:"
   ]
  },
  {
   "cell_type": "markdown",
   "metadata": {},
   "source": [
    "# **Matemática Financeira:**\n",
    "\n",
    "- Conceitos gerais: valor do dinheiro no tempo, juros, taxa de juro.\n",
    "- Juros simples.\n",
    "- Juros compostos.\n",
    "- Séries uniformes.\n",
    "- Equivalência de capitais em fluxos regulares ou irregulares.\n",
    "- Sistemas de amortização.\n",
    "- Descontos.\n",
    "- Sequências numéricas: progressões aritméticas e geométricas.\n",
    "- Noções de probabilidade e estatística."
   ]
  },
  {
   "cell_type": "markdown",
   "metadata": {},
   "source": [
    "## Conceitos gerais: valor do dinheiro no tempo, juros, taxa de juro."
   ]
  },
  {
   "cell_type": "markdown",
   "metadata": {},
   "source": [
    "### Valor do dinheiro no tempo: \n",
    "Este conceito refere-se ao princípio de que o valor de uma quantia de dinheiro pode variar ao longo do tempo devido a fatores como inflação, oportunidades de investimento e preferências individuais. Em resumo, o dinheiro disponível hoje pode ter um valor diferente do mesmo montante no futuro devido à capacidade de investir ou ao impacto da inflação."
   ]
  },
  {
   "cell_type": "markdown",
   "metadata": {},
   "source": [
    "### Juros\n",
    "\n",
    "- **Para quem concede um empréstimo, os juros são a remuneração do capital.**\n",
    "> Quando alguém empresta dinheiro, está abrindo mão do uso desse dinheiro durante um certo período de tempo. Os juros são a compensação por essa renúncia ao uso do capital. Isso é especialmente importante para bancos e instituições financeiras, que emprestam dinheiro como parte de seu negócio principal.\n",
    "\n",
    "- **Para quem toma o empréstimo, os juros são o custo do capital.**\n",
    "> Quando alguém toma um empréstimo, está essencialmente pagando pelo privilégio de usar o dinheiro de outra pessoa. Esse custo adicional é crucial para considerar ao decidir sobre empréstimos, pois afeta o custo total do empréstimo e, consequentemente, a viabilidade de projetos ou investimentos.\n"
   ]
  },
  {
   "cell_type": "code",
   "execution_count": 11,
   "metadata": {},
   "outputs": [],
   "source": [
    "# Digamos que você depositou dinheiro no banco\n",
    "i = 0.8 # Taxa de Juros (i)% ao mês\n",
    "n = 3 # Número de períodos (n) meses\n",
    "C = 1000.00 # Capital Inicial"
   ]
  },
  {
   "cell_type": "code",
   "execution_count": 12,
   "metadata": {},
   "outputs": [
    {
     "name": "stdout",
     "output_type": "stream",
     "text": [
      "Ao final de trinta dias R$8.0\n",
      "Seu novo capital é R$1008.0\n"
     ]
    }
   ],
   "source": [
    "# No final do primeiro mês\n",
    "Juros_Apurados = C*(i/100)\n",
    "print(f'Ao final de trinta dias R${Juros_Apurados}')\n",
    "C = C+Juros_Apurados\n",
    "print(f'Seu novo capital é R${C}')"
   ]
  },
  {
   "cell_type": "code",
   "execution_count": 13,
   "metadata": {},
   "outputs": [
    {
     "name": "stdout",
     "output_type": "stream",
     "text": [
      "Ao final de trinta dias R$8.064\n",
      "Seu novo capital é R$1016.064\n"
     ]
    }
   ],
   "source": [
    "# No final do segundo mês\n",
    "Juros_Apurados = C*(i/100)\n",
    "print(f'Ao final de trinta dias R${Juros_Apurados}')\n",
    "C = C+Juros_Apurados\n",
    "print(f'Seu novo capital é R${C}')"
   ]
  },
  {
   "cell_type": "code",
   "execution_count": 14,
   "metadata": {},
   "outputs": [
    {
     "name": "stdout",
     "output_type": "stream",
     "text": [
      "Ao final de trinta dias R$8.128512\n",
      "Seu novo capital é R$1024.192512\n"
     ]
    }
   ],
   "source": [
    "# No final do terceiro mês\n",
    "Juros_Apurados = C*(i/100)\n",
    "print(f'Ao final de trinta dias R${Juros_Apurados}')\n",
    "C = C+Juros_Apurados\n",
    "# Esse e o valor do capital aplicado no banco durante 3 meses\n",
    "print(f'Seu novo capital é R${C}')"
   ]
  },
  {
   "cell_type": "markdown",
   "metadata": {},
   "source": [
    "Pode se dizer então que o valor **FUTURO** de **R$1.000** aplicado com o juros de 0.8% durante 3 meses é de **R$1.204,19**"
   ]
  },
  {
   "cell_type": "markdown",
   "metadata": {},
   "source": [
    "#### No sentido inverso\n",
    "Pode se dizer tambem que o **R$1.000** é o valor **PRESENTE** de **R$1.204,19** aplicados por 3 meses a uma taxa de 0.8% ao mês"
   ]
  },
  {
   "cell_type": "code",
   "execution_count": 19,
   "metadata": {},
   "outputs": [
    {
     "name": "stdout",
     "output_type": "stream",
     "text": [
      "Montante ao final do primeiro mês: 1008.0\n",
      "Montante ao final do segundo mês: 1016.0640000000001\n",
      "Montante ao final do terceiro mês: 1024.1925119999999\n"
     ]
    }
   ],
   "source": [
    "# Novamente\n",
    "i = 0.8 # Taxa de Juros (i)% ao mês\n",
    "n = 3 # Número de períodos (n) meses\n",
    "C = 1000.00 # Capital Inicial\n",
    "\n",
    "# Cálculo do montante ao final de cada período\n",
    "C1 = C * (1 + (i/100))  # No final do primeiro mês\n",
    "C2 = C * (1 + (i/100))**2  # No final do segundo mês\n",
    "C3 = C * (1 + (i/100))**3  # No final do terceiro mês\n",
    "\n",
    "\n",
    "\n",
    "\n",
    "# 0.8/100 = 0.008 (convertendo a taxa de juros para decimal).\n",
    "# 1 + 0.008 = 1.008 (adicionando 1 à taxa de juros).\n",
    "# 1.008 (elevando esse valor à potência de 3, que representa 3 meses).\n",
    "\n",
    "# **2 significa elevado a 2\n",
    "\n",
    "print(\"Montante ao final do primeiro mês:\", C1)\n",
    "print(\"Montante ao final do segundo mês:\", C2)\n",
    "print(\"Montante ao final do terceiro mês:\", C3)"
   ]
  },
  {
   "cell_type": "code",
   "execution_count": 20,
   "metadata": {},
   "outputs": [
    {
     "data": {
      "text/plain": [
       "1024.1925119999999"
      ]
     },
     "execution_count": 20,
     "metadata": {},
     "output_type": "execute_result"
    }
   ],
   "source": [
    "# Em termos gerais\n",
    "i = 0.8 # Taxa de Juros (i)% ao mês\n",
    "n = 3 # Número de períodos (n) meses\n",
    "Valor_Presente = 1000.00 # Capital Inicial\n",
    "\n",
    "Valor_Futuro = Valor_Presente * (1 + (i / 100))**n\n",
    "print(\"Valor Futuro:\", Valor_Futuro)"
   ]
  },
  {
   "cell_type": "code",
   "execution_count": 25,
   "metadata": {},
   "outputs": [
    {
     "name": "stdout",
     "output_type": "stream",
     "text": [
      "Valor Presente: 1000\n"
     ]
    }
   ],
   "source": [
    "# Em termos gerais (No inverso)\n",
    "i = 0.8 # Taxa de Juros (i)% ao mês\n",
    "n = 3 # Número de períodos (n) meses\n",
    "Valor_Futuro = 1024.19 # Capital Futuro\n",
    "\n",
    "Valor_Presente = Valor_Futuro / (1 + (i / 100))**n\n",
    "print(\"Valor Presente:\", round(Valor_Presente)) # Tive que arredondar"
   ]
  }
 ],
 "metadata": {
  "kernelspec": {
   "display_name": "Python 3",
   "language": "python",
   "name": "python3"
  },
  "language_info": {
   "codemirror_mode": {
    "name": "ipython",
    "version": 3
   },
   "file_extension": ".py",
   "mimetype": "text/x-python",
   "name": "python",
   "nbconvert_exporter": "python",
   "pygments_lexer": "ipython3",
   "version": "3.11.5"
  }
 },
 "nbformat": 4,
 "nbformat_minor": 2
}
