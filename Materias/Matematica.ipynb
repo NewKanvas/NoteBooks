{
 "cells": [
  {
   "cell_type": "markdown",
   "metadata": {},
   "source": [
    "Media, Moda, Mediana."
   ]
  },
  {
   "cell_type": "markdown",
   "metadata": {},
   "source": [
    "Media (Soma de todos a valores divido pela quantidade deles)"
   ]
  },
  {
   "cell_type": "markdown",
   "metadata": {},
   "source": [
    "Moda (é o dado que aparece com maior frequência em um conjunto de dados)"
   ]
  },
  {
   "cell_type": "markdown",
   "metadata": {},
   "source": [
    "Mediana (mediana é necessário colocar os valores em ordem crescente ou decrescente. Quando o número elementos de um conjunto é par, a mediana é encontrada pela média dos dois valores centrais. Assim, esses valores são somados e divididos por dois.)"
   ]
  },
  {
   "cell_type": "markdown",
   "metadata": {},
   "source": [
    "a) 1ª Etapa - Avaliação de Conhecimentos, mediante a aplicação de provas objetivas, de caráter eliminatório e classificatório, sob a responsabilidade da FUNDAÇÃO CESGRANRIO.\n",
    "\n",
    "b) 2ª Etapa - Prova de Redação de caráter eliminatório, sob a responsabilidade da FUNDAÇÃO CESGRANRIO.\n",
    "\n",
    "c) 3ª Etapa - Procedimento de verificação da condição declarada para concorrer às vagas reservadas a pessoas negras, sob a responsabilidade da FUNDAÇÃO CESGRANRIO"
   ]
  },
  {
   "cell_type": "markdown",
   "metadata": {},
   "source": [
    "## **Língua Portuguesa (TBN e TBN TI):**\n",
    "\n",
    "1. Compreensão e interpretação de textos.\n",
    "2. Argumentação e persuasão.\n",
    "3. Comunicação assertiva: linguagem simples, concisa e objetiva.\n",
    "4. Organização textual.\n",
    "5. Coesão e coerência.\n",
    "6. Tipologia textual.\n",
    "7. Ortografia oficial.\n",
    "8. Acentuação gráfica.\n",
    "9. Emprego do sinal indicativo de crase.\n",
    "10. Sintaxe da oração e do período.\n",
    "11. Pontuação.\n",
    "12. Concordância nominal e verbal.\n",
    "13. Regência nominal e verbal.\n",
    "14. Significação das palavras.\n",
    "15. Colocação do pronome átono.\n",
    "16. Redação oficial e Novo Acordo Ortográfico.\n",
    "\n",
    "## **Língua Inglesa:**\n",
    "\n",
    "- Conhecimento básico de vocabulário e gramática para compreensão de textos.\n",
    "\n",
    "## **Matemática Financeira:**\n",
    "\n",
    "- Conceitos gerais: valor do dinheiro no tempo, juros, taxa de juro.\n",
    "- Juros simples.\n",
    "- Juros compostos.\n",
    "- Séries uniformes.\n",
    "- Equivalência de capitais em fluxos regulares ou irregulares.\n",
    "- Sistemas de amortização.\n",
    "- Descontos.\n",
    "- Sequências numéricas: progressões aritméticas e geométricas.\n",
    "- Noções de probabilidade e estatística.\n",
    "\n",
    "## **Comportamentos Éticos e Compliance:**\n",
    "\n",
    "- Prevenção à lavagem de dinheiro.\n",
    "- Enfrentamento ao assédio moral e sexual.\n",
    "- Atitudes éticas e valores profissionais.\n",
    "- Segurança da informação e legislação correspondente.\n",
    "- Princípios constitucionais da administração pública.\n",
    "- Sigilo bancário e legislação de proteção de dados.\n",
    "- Legislação anticorrupção e responsabilidade socioambiental.\n",
    "- Boas práticas de governança corporativa.\n",
    "\n",
    "## **Conhecimentos Específicos - Técnico Bancário Novo:**\n",
    "\n",
    "- Estatuto Social da Caixa e Sistema Financeiro Nacional.\n",
    "- Mercado financeiro e bancos na era digital.\n",
    "- Noções de tecnologia da informação e comunicação.\n",
    "- Conhecimentos de atendimento bancário.\n",
    "\n",
    "## **Conhecimentos de Tecnologia da Informação:**\n",
    "\n",
    "- Engenharia de software, estrutura de dados e algoritmos.\n",
    "- Linguagens de programação.\n",
    "- Desenvolvimento de software para web.\n",
    "- Teste de software.\n",
    "- Bancos de dados e big data.\n",
    "- Agilidade e metodologias ágeis.\n",
    "- Organização e arquitetura de computadores.\n",
    "- Gestão e governança de TI.\n",
    "\n",
    "## **Conhecimentos e Comportamentos Digitais:**\n",
    "\n",
    "- Mindset de crescimento e intraempreendedorismo.\n",
    "- Design thinking e metodologias ágeis.\n",
    "- Resolução de problemas complexos e pensamento sistêmico.\n",
    "- Ciência de dados e inteligência emocional.\n",
    "- Desenvolvimento sustentável e gestão do tempo.\n",
    "- Liderança e autodesenvolvimento.\n",
    "- Experiência do consumidor e gestão de resultados.\n",
    "- Técnicas para trabalho remoto e aprendizagem contínua.\n",
    "\n",
    "## **Atendimento Bancário:**\n",
    "\n",
    "- Valor percebido pelo cliente e gestão da experiência.\n",
    "- Técnicas de vendas e marketing digital.\n",
    "- Ética e conduta profissional.\n",
    "- Qualidade no atendimento e canais remotos.\n",
    "- Política de relacionamento com o cliente e diversidade e inclusão."
   ]
  },
  {
   "cell_type": "markdown",
   "metadata": {},
   "source": [
    "# **Matemática Financeira:**\n",
    "\n",
    "- Conceitos gerais: valor do dinheiro no tempo, juros, taxa de juro.\n",
    "- Juros simples.\n",
    "- Juros compostos.\n",
    "- Séries uniformes.\n",
    "- Equivalência de capitais em fluxos regulares ou irregulares.\n",
    "- Sistemas de amortização.\n",
    "- Descontos.\n",
    "- Sequências numéricas: progressões aritméticas e geométricas.\n",
    "- Noções de probabilidade e estatística."
   ]
  }
 ],
 "metadata": {
  "language_info": {
   "name": "python"
  }
 },
 "nbformat": 4,
 "nbformat_minor": 2
}
