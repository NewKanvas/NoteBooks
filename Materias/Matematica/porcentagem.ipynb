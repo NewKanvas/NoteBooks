{
 "cells": [
  {
   "cell_type": "markdown",
   "metadata": {},
   "source": [
    "## PORCENTAGEM:"
   ]
  },
  {
   "cell_type": "markdown",
   "metadata": {},
   "source": [
    "`Porcentagem` é uma forma de expressar uma parte de um todo em termos percentuais.\n",
    "\n",
    "**Macete**: Para calcular a porcentagem de um valor, **multiplique o valor pela porcentagem** e **mova a vírgula duas posições para a frente**.\n",
    "Por exemplo, \n",
    "\n",
    "    20 alunos, 35% são mulheres. \n",
    "    20 x 35 = 700.\n",
    "    Portanto, 35% de 20 alunos são 7 alunas.\n",
    "\n",
    "Para encontrar a **parte complementar** (porcentagem restante),\n",
    "subtraia a porcentagem conhecida de 100%. Por exemplo, se 35% são mulheres,\n",
    "\n",
    "    100% - 35% = 65% são homens.\n",
    "    20 x 65 = 1300\n",
    "\n",
    "Assim, em 20 alunos, 65% são homens, o que equivale a 13 alunos.\n"
   ]
  },
  {
   "cell_type": "code",
   "execution_count": null,
   "metadata": {},
   "outputs": [
    {
     "name": "stdout",
     "output_type": "stream",
     "text": [
      "Resultado sem mover a virgula 1300\n",
      "Resultado real 13.0\n"
     ]
    }
   ],
   "source": [
    "Total = 20\n",
    "i = 65 # Porcentagem\n",
    "Resultado = Total*i\n",
    "print('Resultado sem mover a virgula',Resultado)\n",
    "print('Resultado real',Resultado/100)"
   ]
  },
  {
   "cell_type": "markdown",
   "metadata": {},
   "source": [
    "**Para encontrar o valor original** de um número com aumento em porcentagem, você deve dividir o valor com aumento pela expressão (100% + x%).\n",
    "\n",
    "Exemplo:\n",
    "Se um trabalhador tivesse **7% de aumento** do seu **salário atual** e recebesse **R$ 2.675,00**.\n",
    "\n",
    "    2675 / (100% + 7%)\n",
    "    2675 / (1 + 0.07)\n",
    "    2675 / 1.07 ≈ 2500\n",
    "\n",
    "(Você pode pegar o 7 puro e no final mover a virgula para **duas posições para a tras** o resultado sera o mesmo)\n",
    "Portanto, o valor do salário atual é aproximadamente R$ 2.500,00.\n"
   ]
  },
  {
   "cell_type": "code",
   "execution_count": null,
   "metadata": {},
   "outputs": [
    {
     "name": "stdout",
     "output_type": "stream",
     "text": [
      "25.0\n",
      "2500.0\n"
     ]
    }
   ],
   "source": [
    "VcA = 2675\n",
    "A = 7\n",
    "\n",
    "SalarioAtual = VcA/(100+A)\n",
    "print(SalarioAtual)\n",
    "print(SalarioAtual*100)"
   ]
  }
 ],
 "metadata": {
  "language_info": {
   "name": "python"
  }
 },
 "nbformat": 4,
 "nbformat_minor": 2
}
